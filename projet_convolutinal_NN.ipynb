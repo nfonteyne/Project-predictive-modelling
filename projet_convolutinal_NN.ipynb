{
  "nbformat": 4,
  "nbformat_minor": 0,
  "metadata": {
    "colab": {
      "provenance": []
    },
    "kernelspec": {
      "name": "python3",
      "display_name": "Python 3"
    },
    "language_info": {
      "name": "python"
    }
  },
  "cells": [
    {
      "cell_type": "markdown",
      "source": [
        "#Convolutional neural network"
      ],
      "metadata": {
        "id": "golhMBs-GK6l"
      }
    },
    {
      "cell_type": "markdown",
      "source": [
        "###import library"
      ],
      "metadata": {
        "id": "H8wFQNImGTLT"
      }
    },
    {
      "cell_type": "code",
      "execution_count": 5,
      "metadata": {
        "id": "mcKhod0UGKSD"
      },
      "outputs": [],
      "source": [
        "import pandas as pd\n",
        "import numpy as np\n",
        "import matplotlib.pylab as plt\n",
        "import seaborn as sns\n",
        "\n",
        "from glob import glob\n",
        "#Le module glob recherche tous les chemins correspondant à un motif \n",
        "#particulier selon les règles utilisées par le shell Unix, les résultats sont renvoyés dans un ordre arbitraire.\n",
        "\n",
        "import librosa\n",
        "import librosa.display\n",
        "import IPython.display as ipd\n",
        "\n",
        "from tqdm import tqdm\n",
        "import os"
      ]
    },
    {
      "cell_type": "markdown",
      "source": [
        "###Création mel spectrogramme pour chaque fichier audio"
      ],
      "metadata": {
        "id": "OkyI8_EAGibX"
      }
    },
    {
      "cell_type": "code",
      "source": [
        "from google.colab import drive\n",
        "drive.mount('/content/drive')"
      ],
      "metadata": {
        "colab": {
          "base_uri": "https://localhost:8080/"
        },
        "id": "FVyVhzTWosi6",
        "outputId": "aae42873-87dd-4311-d33c-882cb5fd335d"
      },
      "execution_count": 6,
      "outputs": [
        {
          "output_type": "stream",
          "name": "stdout",
          "text": [
            "Drive already mounted at /content/drive; to attempt to forcibly remount, call drive.mount(\"/content/drive\", force_remount=True).\n"
          ]
        }
      ]
    },
    {
      "cell_type": "code",
      "source": [
        "feature_list = []\n",
        "label_list = []\n",
        "dictMel = {}\n",
        "# Iterate over all files in given source path\n",
        "print('Preparing feature dataset and labels.')\n",
        "for file in tqdm(os.listdir('/content/drive/MyDrive/projet supervised learning on your own/supervised learning on your own/AudioWAV')):\n",
        "    # Skip if it's not a wav file\n",
        "    if not file.endswith('.wav'):\n",
        "        continue\n",
        "    # Load audio and stretch it to length 1s\n",
        "    audio_path = os.path.join('/content/drive/MyDrive/projet supervised learning on your own/supervised learning on your own/AudioWAV', file)\n",
        "    audio, sr = librosa.load(path=audio_path, sr=None)\n",
        "    audio = librosa.effects.time_stretch(y=audio, rate=len(audio)/sr)\n",
        "    # Calculate features and get the label from the filename\n",
        "    mels = librosa.feature.melspectrogram(y=audio, sr=sr, n_fft=2048, hop_length=512)\n",
        "    mels_db = librosa.power_to_db(S=mels, ref=1.0)\n",
        "    if mels_db.shape == (128,32):\n",
        "      feature_list.append(mels_db.reshape((128, 32, 1)))\n",
        "      filename = str(file)[:-4]\n",
        "      label_list.append(filename)\n",
        "      dictMel[filename] = mels_db\n",
        "features = np.array(feature_list)\n",
        "labels = np.array(label_list)"
      ],
      "metadata": {
        "colab": {
          "base_uri": "https://localhost:8080/"
        },
        "id": "XdDieOokGg6D",
        "outputId": "354b622b-fa10-4881-eb5f-be5fff09d074"
      },
      "execution_count": 15,
      "outputs": [
        {
          "output_type": "stream",
          "name": "stdout",
          "text": [
            "Preparing feature dataset and labels.\n"
          ]
        },
        {
          "output_type": "stream",
          "name": "stderr",
          "text": [
            "100%|██████████| 7447/7447 [02:30<00:00, 49.39it/s]\n"
          ]
        }
      ]
    },
    {
      "cell_type": "code",
      "source": [
        "features.shape"
      ],
      "metadata": {
        "colab": {
          "base_uri": "https://localhost:8080/"
        },
        "id": "qVWCWk-XUcfU",
        "outputId": "325a79d0-e190-413d-df86-b2ee502d071a"
      },
      "execution_count": 16,
      "outputs": [
        {
          "output_type": "execute_result",
          "data": {
            "text/plain": [
              "(7447, 128, 32, 1)"
            ]
          },
          "metadata": {},
          "execution_count": 16
        }
      ]
    },
    {
      "cell_type": "code",
      "source": [
        "labels.shape"
      ],
      "metadata": {
        "colab": {
          "base_uri": "https://localhost:8080/"
        },
        "id": "DQNAdMB8UhbY",
        "outputId": "be5f9f6c-98bf-436d-9ff7-419116045fb3"
      },
      "execution_count": 17,
      "outputs": [
        {
          "output_type": "execute_result",
          "data": {
            "text/plain": [
              "(7447,)"
            ]
          },
          "metadata": {},
          "execution_count": 17
        }
      ]
    },
    {
      "cell_type": "markdown",
      "source": [
        "###Tri des élements par ordre de nom de fichier"
      ],
      "metadata": {
        "id": "dW-HJZ8iGtci"
      }
    },
    {
      "cell_type": "code",
      "source": [
        "dataMel = pd.Series(dictMel)\n",
        "dataMel=dataMel.sort_index()\n",
        "listMel =dataMel.to_list()\n",
        "liste_son=dataMel.index.to_list()"
      ],
      "metadata": {
        "id": "PXINSSfHGcSh"
      },
      "execution_count": 34,
      "outputs": []
    },
    {
      "cell_type": "markdown",
      "source": [
        "###On converti en matrice 3D"
      ],
      "metadata": {
        "id": "ZJvTShBoG-QI"
      }
    },
    {
      "cell_type": "code",
      "source": [
        "def list_to_matrix(X):\n",
        "  matrix = np.zeros(shape=(len(X),128, 32))\n",
        "  for i in range(len(X)):\n",
        "    if X[i].shape == (128, 32):\n",
        "      #print(X[i].shape, ' son num : ',i)\n",
        "      matrix[i]=X[i]\n",
        "  return matrix\n",
        "\n",
        "matrix = list_to_matrix(listMel)"
      ],
      "metadata": {
        "id": "ozld-IhdHEzj"
      },
      "execution_count": 37,
      "outputs": []
    },
    {
      "cell_type": "code",
      "source": [
        "matrix[0]"
      ],
      "metadata": {
        "colab": {
          "base_uri": "https://localhost:8080/"
        },
        "id": "IcpqnSud03Rt",
        "outputId": "9e3fa8f5-80d0-44fa-b426-50a0f7c5bf42"
      },
      "execution_count": 39,
      "outputs": [
        {
          "output_type": "execute_result",
          "data": {
            "text/plain": [
              "array([[-41.02635193, -34.52111816, -33.46742249, ..., -37.52510452,\n",
              "        -34.50287628, -31.78588486],\n",
              "       [-35.16249847, -29.44963646, -28.84917259, ..., -28.70441246,\n",
              "        -28.17249107, -28.09036446],\n",
              "       [-30.01316261, -24.35401917, -22.41397667, ..., -18.86247253,\n",
              "        -20.06266785, -21.37977982],\n",
              "       ...,\n",
              "       [-61.41165924, -54.73984146, -53.39689255, ..., -57.22369766,\n",
              "        -57.89124298, -59.00911713],\n",
              "       [-62.87792206, -56.04319763, -54.13166809, ..., -55.05571747,\n",
              "        -54.91855621, -58.64489746],\n",
              "       [-62.52461243, -55.07435226, -53.67029572, ..., -56.17289734,\n",
              "        -55.75691986, -58.09585571]])"
            ]
          },
          "metadata": {},
          "execution_count": 39
        }
      ]
    },
    {
      "cell_type": "markdown",
      "source": [
        "###Récupération des labels"
      ],
      "metadata": {
        "id": "qavyjVdwHMsi"
      }
    },
    {
      "cell_type": "code",
      "source": [
        "crema_directory_list = os.listdir('/content/drive/MyDrive/projet supervised learning on your own/supervised learning on your own/AudioWAV')\n",
        "\n",
        "file_emotion = []\n",
        "file_path = []\n",
        "\n",
        "for file in crema_directory_list:\n",
        "    # storing file paths\n",
        "    file_path.append(file)\n",
        "    # storing file emotions\n",
        "    part=file.split('_')\n",
        "    if part[2] == 'SAD':\n",
        "        file_emotion.append('sad')\n",
        "    elif part[2] == 'ANG':\n",
        "        file_emotion.append('angry')\n",
        "    elif part[2] == 'DIS':\n",
        "        file_emotion.append('disgust')\n",
        "    elif part[2] == 'FEA':\n",
        "        file_emotion.append('fear')\n",
        "    elif part[2] == 'HAP':\n",
        "        file_emotion.append('happy')\n",
        "    elif part[2] == 'NEU':\n",
        "        file_emotion.append('neutral')\n",
        "    else:\n",
        "        file_emotion.append('Unknown')\n",
        "        \n",
        "# dataframe for emotion of files\n",
        "emotion_df = pd.DataFrame(file_emotion, columns=['Emotions'])\n",
        "\n",
        "# dataframe for path of files.\n",
        "path_df = pd.DataFrame(file_path, columns=['Path'])\n",
        "Crema_df = pd.concat([emotion_df, path_df], axis=1)\n",
        "Crema_df.head()"
      ],
      "metadata": {
        "colab": {
          "base_uri": "https://localhost:8080/",
          "height": 204
        },
        "id": "KrNHC5RUygyj",
        "outputId": "f13d5af7-65ca-40dc-d4e2-6517d8dd857d"
      },
      "execution_count": 20,
      "outputs": [
        {
          "output_type": "execute_result",
          "data": {
            "text/plain": [
              "  Emotions                 Path\n",
              "0  disgust  1079_TSI_DIS_XX.wav\n",
              "1     fear  1079_TIE_FEA_XX.wav\n",
              "2  disgust  1080_DFA_DIS_XX.wav\n",
              "3  disgust  1079_TIE_DIS_XX.wav\n",
              "4  neutral  1079_TIE_NEU_XX.wav"
            ],
            "text/html": [
              "\n",
              "  <div id=\"df-abaddebe-ec2f-443b-80b6-6f4d2ee9e6fb\">\n",
              "    <div class=\"colab-df-container\">\n",
              "      <div>\n",
              "<style scoped>\n",
              "    .dataframe tbody tr th:only-of-type {\n",
              "        vertical-align: middle;\n",
              "    }\n",
              "\n",
              "    .dataframe tbody tr th {\n",
              "        vertical-align: top;\n",
              "    }\n",
              "\n",
              "    .dataframe thead th {\n",
              "        text-align: right;\n",
              "    }\n",
              "</style>\n",
              "<table border=\"1\" class=\"dataframe\">\n",
              "  <thead>\n",
              "    <tr style=\"text-align: right;\">\n",
              "      <th></th>\n",
              "      <th>Emotions</th>\n",
              "      <th>Path</th>\n",
              "    </tr>\n",
              "  </thead>\n",
              "  <tbody>\n",
              "    <tr>\n",
              "      <th>0</th>\n",
              "      <td>disgust</td>\n",
              "      <td>1079_TSI_DIS_XX.wav</td>\n",
              "    </tr>\n",
              "    <tr>\n",
              "      <th>1</th>\n",
              "      <td>fear</td>\n",
              "      <td>1079_TIE_FEA_XX.wav</td>\n",
              "    </tr>\n",
              "    <tr>\n",
              "      <th>2</th>\n",
              "      <td>disgust</td>\n",
              "      <td>1080_DFA_DIS_XX.wav</td>\n",
              "    </tr>\n",
              "    <tr>\n",
              "      <th>3</th>\n",
              "      <td>disgust</td>\n",
              "      <td>1079_TIE_DIS_XX.wav</td>\n",
              "    </tr>\n",
              "    <tr>\n",
              "      <th>4</th>\n",
              "      <td>neutral</td>\n",
              "      <td>1079_TIE_NEU_XX.wav</td>\n",
              "    </tr>\n",
              "  </tbody>\n",
              "</table>\n",
              "</div>\n",
              "      <button class=\"colab-df-convert\" onclick=\"convertToInteractive('df-abaddebe-ec2f-443b-80b6-6f4d2ee9e6fb')\"\n",
              "              title=\"Convert this dataframe to an interactive table.\"\n",
              "              style=\"display:none;\">\n",
              "        \n",
              "  <svg xmlns=\"http://www.w3.org/2000/svg\" height=\"24px\"viewBox=\"0 0 24 24\"\n",
              "       width=\"24px\">\n",
              "    <path d=\"M0 0h24v24H0V0z\" fill=\"none\"/>\n",
              "    <path d=\"M18.56 5.44l.94 2.06.94-2.06 2.06-.94-2.06-.94-.94-2.06-.94 2.06-2.06.94zm-11 1L8.5 8.5l.94-2.06 2.06-.94-2.06-.94L8.5 2.5l-.94 2.06-2.06.94zm10 10l.94 2.06.94-2.06 2.06-.94-2.06-.94-.94-2.06-.94 2.06-2.06.94z\"/><path d=\"M17.41 7.96l-1.37-1.37c-.4-.4-.92-.59-1.43-.59-.52 0-1.04.2-1.43.59L10.3 9.45l-7.72 7.72c-.78.78-.78 2.05 0 2.83L4 21.41c.39.39.9.59 1.41.59.51 0 1.02-.2 1.41-.59l7.78-7.78 2.81-2.81c.8-.78.8-2.07 0-2.86zM5.41 20L4 18.59l7.72-7.72 1.47 1.35L5.41 20z\"/>\n",
              "  </svg>\n",
              "      </button>\n",
              "      \n",
              "  <style>\n",
              "    .colab-df-container {\n",
              "      display:flex;\n",
              "      flex-wrap:wrap;\n",
              "      gap: 12px;\n",
              "    }\n",
              "\n",
              "    .colab-df-convert {\n",
              "      background-color: #E8F0FE;\n",
              "      border: none;\n",
              "      border-radius: 50%;\n",
              "      cursor: pointer;\n",
              "      display: none;\n",
              "      fill: #1967D2;\n",
              "      height: 32px;\n",
              "      padding: 0 0 0 0;\n",
              "      width: 32px;\n",
              "    }\n",
              "\n",
              "    .colab-df-convert:hover {\n",
              "      background-color: #E2EBFA;\n",
              "      box-shadow: 0px 1px 2px rgba(60, 64, 67, 0.3), 0px 1px 3px 1px rgba(60, 64, 67, 0.15);\n",
              "      fill: #174EA6;\n",
              "    }\n",
              "\n",
              "    [theme=dark] .colab-df-convert {\n",
              "      background-color: #3B4455;\n",
              "      fill: #D2E3FC;\n",
              "    }\n",
              "\n",
              "    [theme=dark] .colab-df-convert:hover {\n",
              "      background-color: #434B5C;\n",
              "      box-shadow: 0px 1px 3px 1px rgba(0, 0, 0, 0.15);\n",
              "      filter: drop-shadow(0px 1px 2px rgba(0, 0, 0, 0.3));\n",
              "      fill: #FFFFFF;\n",
              "    }\n",
              "  </style>\n",
              "\n",
              "      <script>\n",
              "        const buttonEl =\n",
              "          document.querySelector('#df-abaddebe-ec2f-443b-80b6-6f4d2ee9e6fb button.colab-df-convert');\n",
              "        buttonEl.style.display =\n",
              "          google.colab.kernel.accessAllowed ? 'block' : 'none';\n",
              "\n",
              "        async function convertToInteractive(key) {\n",
              "          const element = document.querySelector('#df-abaddebe-ec2f-443b-80b6-6f4d2ee9e6fb');\n",
              "          const dataTable =\n",
              "            await google.colab.kernel.invokeFunction('convertToInteractive',\n",
              "                                                     [key], {});\n",
              "          if (!dataTable) return;\n",
              "\n",
              "          const docLinkHtml = 'Like what you see? Visit the ' +\n",
              "            '<a target=\"_blank\" href=https://colab.research.google.com/notebooks/data_table.ipynb>data table notebook</a>'\n",
              "            + ' to learn more about interactive tables.';\n",
              "          element.innerHTML = '';\n",
              "          dataTable['output_type'] = 'display_data';\n",
              "          await google.colab.output.renderOutput(dataTable, element);\n",
              "          const docLink = document.createElement('div');\n",
              "          docLink.innerHTML = docLinkHtml;\n",
              "          element.appendChild(docLink);\n",
              "        }\n",
              "      </script>\n",
              "    </div>\n",
              "  </div>\n",
              "  "
            ]
          },
          "metadata": {},
          "execution_count": 20
        }
      ]
    },
    {
      "cell_type": "code",
      "source": [
        "Crema_df = Crema_df.sort_values(by=['Path'], ascending=True)"
      ],
      "metadata": {
        "id": "A754E_XkmyEw"
      },
      "execution_count": 21,
      "outputs": []
    },
    {
      "cell_type": "code",
      "source": [
        "Crema_df.reset_index(drop=True)"
      ],
      "metadata": {
        "colab": {
          "base_uri": "https://localhost:8080/",
          "height": 419
        },
        "id": "Z8Dmisf6zjnU",
        "outputId": "dd5fa78d-48d4-47a5-d1c9-7ae36a8aaaaa"
      },
      "execution_count": 22,
      "outputs": [
        {
          "output_type": "execute_result",
          "data": {
            "text/plain": [
              "     Emotions                 Path\n",
              "0       angry  1001_DFA_ANG_XX.wav\n",
              "1     disgust  1001_DFA_DIS_XX.wav\n",
              "2        fear  1001_DFA_FEA_XX.wav\n",
              "3       happy  1001_DFA_HAP_XX.wav\n",
              "4     neutral  1001_DFA_NEU_XX.wav\n",
              "...       ...                  ...\n",
              "7442  disgust  1091_WSI_DIS_XX.wav\n",
              "7443     fear  1091_WSI_FEA_XX.wav\n",
              "7444    happy  1091_WSI_HAP_XX.wav\n",
              "7445  neutral  1091_WSI_NEU_XX.wav\n",
              "7446      sad  1091_WSI_SAD_XX.wav\n",
              "\n",
              "[7447 rows x 2 columns]"
            ],
            "text/html": [
              "\n",
              "  <div id=\"df-c9c3fe73-c0d1-4635-af5e-8e706aab60e5\">\n",
              "    <div class=\"colab-df-container\">\n",
              "      <div>\n",
              "<style scoped>\n",
              "    .dataframe tbody tr th:only-of-type {\n",
              "        vertical-align: middle;\n",
              "    }\n",
              "\n",
              "    .dataframe tbody tr th {\n",
              "        vertical-align: top;\n",
              "    }\n",
              "\n",
              "    .dataframe thead th {\n",
              "        text-align: right;\n",
              "    }\n",
              "</style>\n",
              "<table border=\"1\" class=\"dataframe\">\n",
              "  <thead>\n",
              "    <tr style=\"text-align: right;\">\n",
              "      <th></th>\n",
              "      <th>Emotions</th>\n",
              "      <th>Path</th>\n",
              "    </tr>\n",
              "  </thead>\n",
              "  <tbody>\n",
              "    <tr>\n",
              "      <th>0</th>\n",
              "      <td>angry</td>\n",
              "      <td>1001_DFA_ANG_XX.wav</td>\n",
              "    </tr>\n",
              "    <tr>\n",
              "      <th>1</th>\n",
              "      <td>disgust</td>\n",
              "      <td>1001_DFA_DIS_XX.wav</td>\n",
              "    </tr>\n",
              "    <tr>\n",
              "      <th>2</th>\n",
              "      <td>fear</td>\n",
              "      <td>1001_DFA_FEA_XX.wav</td>\n",
              "    </tr>\n",
              "    <tr>\n",
              "      <th>3</th>\n",
              "      <td>happy</td>\n",
              "      <td>1001_DFA_HAP_XX.wav</td>\n",
              "    </tr>\n",
              "    <tr>\n",
              "      <th>4</th>\n",
              "      <td>neutral</td>\n",
              "      <td>1001_DFA_NEU_XX.wav</td>\n",
              "    </tr>\n",
              "    <tr>\n",
              "      <th>...</th>\n",
              "      <td>...</td>\n",
              "      <td>...</td>\n",
              "    </tr>\n",
              "    <tr>\n",
              "      <th>7442</th>\n",
              "      <td>disgust</td>\n",
              "      <td>1091_WSI_DIS_XX.wav</td>\n",
              "    </tr>\n",
              "    <tr>\n",
              "      <th>7443</th>\n",
              "      <td>fear</td>\n",
              "      <td>1091_WSI_FEA_XX.wav</td>\n",
              "    </tr>\n",
              "    <tr>\n",
              "      <th>7444</th>\n",
              "      <td>happy</td>\n",
              "      <td>1091_WSI_HAP_XX.wav</td>\n",
              "    </tr>\n",
              "    <tr>\n",
              "      <th>7445</th>\n",
              "      <td>neutral</td>\n",
              "      <td>1091_WSI_NEU_XX.wav</td>\n",
              "    </tr>\n",
              "    <tr>\n",
              "      <th>7446</th>\n",
              "      <td>sad</td>\n",
              "      <td>1091_WSI_SAD_XX.wav</td>\n",
              "    </tr>\n",
              "  </tbody>\n",
              "</table>\n",
              "<p>7447 rows × 2 columns</p>\n",
              "</div>\n",
              "      <button class=\"colab-df-convert\" onclick=\"convertToInteractive('df-c9c3fe73-c0d1-4635-af5e-8e706aab60e5')\"\n",
              "              title=\"Convert this dataframe to an interactive table.\"\n",
              "              style=\"display:none;\">\n",
              "        \n",
              "  <svg xmlns=\"http://www.w3.org/2000/svg\" height=\"24px\"viewBox=\"0 0 24 24\"\n",
              "       width=\"24px\">\n",
              "    <path d=\"M0 0h24v24H0V0z\" fill=\"none\"/>\n",
              "    <path d=\"M18.56 5.44l.94 2.06.94-2.06 2.06-.94-2.06-.94-.94-2.06-.94 2.06-2.06.94zm-11 1L8.5 8.5l.94-2.06 2.06-.94-2.06-.94L8.5 2.5l-.94 2.06-2.06.94zm10 10l.94 2.06.94-2.06 2.06-.94-2.06-.94-.94-2.06-.94 2.06-2.06.94z\"/><path d=\"M17.41 7.96l-1.37-1.37c-.4-.4-.92-.59-1.43-.59-.52 0-1.04.2-1.43.59L10.3 9.45l-7.72 7.72c-.78.78-.78 2.05 0 2.83L4 21.41c.39.39.9.59 1.41.59.51 0 1.02-.2 1.41-.59l7.78-7.78 2.81-2.81c.8-.78.8-2.07 0-2.86zM5.41 20L4 18.59l7.72-7.72 1.47 1.35L5.41 20z\"/>\n",
              "  </svg>\n",
              "      </button>\n",
              "      \n",
              "  <style>\n",
              "    .colab-df-container {\n",
              "      display:flex;\n",
              "      flex-wrap:wrap;\n",
              "      gap: 12px;\n",
              "    }\n",
              "\n",
              "    .colab-df-convert {\n",
              "      background-color: #E8F0FE;\n",
              "      border: none;\n",
              "      border-radius: 50%;\n",
              "      cursor: pointer;\n",
              "      display: none;\n",
              "      fill: #1967D2;\n",
              "      height: 32px;\n",
              "      padding: 0 0 0 0;\n",
              "      width: 32px;\n",
              "    }\n",
              "\n",
              "    .colab-df-convert:hover {\n",
              "      background-color: #E2EBFA;\n",
              "      box-shadow: 0px 1px 2px rgba(60, 64, 67, 0.3), 0px 1px 3px 1px rgba(60, 64, 67, 0.15);\n",
              "      fill: #174EA6;\n",
              "    }\n",
              "\n",
              "    [theme=dark] .colab-df-convert {\n",
              "      background-color: #3B4455;\n",
              "      fill: #D2E3FC;\n",
              "    }\n",
              "\n",
              "    [theme=dark] .colab-df-convert:hover {\n",
              "      background-color: #434B5C;\n",
              "      box-shadow: 0px 1px 3px 1px rgba(0, 0, 0, 0.15);\n",
              "      filter: drop-shadow(0px 1px 2px rgba(0, 0, 0, 0.3));\n",
              "      fill: #FFFFFF;\n",
              "    }\n",
              "  </style>\n",
              "\n",
              "      <script>\n",
              "        const buttonEl =\n",
              "          document.querySelector('#df-c9c3fe73-c0d1-4635-af5e-8e706aab60e5 button.colab-df-convert');\n",
              "        buttonEl.style.display =\n",
              "          google.colab.kernel.accessAllowed ? 'block' : 'none';\n",
              "\n",
              "        async function convertToInteractive(key) {\n",
              "          const element = document.querySelector('#df-c9c3fe73-c0d1-4635-af5e-8e706aab60e5');\n",
              "          const dataTable =\n",
              "            await google.colab.kernel.invokeFunction('convertToInteractive',\n",
              "                                                     [key], {});\n",
              "          if (!dataTable) return;\n",
              "\n",
              "          const docLinkHtml = 'Like what you see? Visit the ' +\n",
              "            '<a target=\"_blank\" href=https://colab.research.google.com/notebooks/data_table.ipynb>data table notebook</a>'\n",
              "            + ' to learn more about interactive tables.';\n",
              "          element.innerHTML = '';\n",
              "          dataTable['output_type'] = 'display_data';\n",
              "          await google.colab.output.renderOutput(dataTable, element);\n",
              "          const docLink = document.createElement('div');\n",
              "          docLink.innerHTML = docLinkHtml;\n",
              "          element.appendChild(docLink);\n",
              "        }\n",
              "      </script>\n",
              "    </div>\n",
              "  </div>\n",
              "  "
            ]
          },
          "metadata": {},
          "execution_count": 22
        }
      ]
    },
    {
      "cell_type": "markdown",
      "source": [
        "On crée la target "
      ],
      "metadata": {
        "id": "qg9tLOtLdadN"
      }
    },
    {
      "cell_type": "markdown",
      "source": [
        "### Préparation des données pour le réseau de neuronnes"
      ],
      "metadata": {
        "id": "0ip4wVQiNkvd"
      }
    },
    {
      "cell_type": "code",
      "source": [
        "from sklearn import preprocessing\n",
        "le = preprocessing.LabelEncoder()"
      ],
      "metadata": {
        "id": "39jDXiWRzzfP"
      },
      "execution_count": 24,
      "outputs": []
    },
    {
      "cell_type": "code",
      "source": [
        "X_train_full = matrix\n",
        "y_train_full = le.fit_transform(Crema_df.Emotions)"
      ],
      "metadata": {
        "id": "bBMSdRcUNl2O"
      },
      "execution_count": 40,
      "outputs": []
    },
    {
      "cell_type": "code",
      "source": [
        "X_train_full.max(1)"
      ],
      "metadata": {
        "colab": {
          "base_uri": "https://localhost:8080/"
        },
        "id": "Po4-CbWE0cXZ",
        "outputId": "42e71b50-9c1b-4140-c247-49461c701be0"
      },
      "execution_count": 47,
      "outputs": [
        {
          "output_type": "execute_result",
          "data": {
            "text/plain": [
              "array([[-26.32200241, -14.35773277,  -9.8089695 , ..., -10.65508747,\n",
              "         -9.89501953, -10.1158905 ],\n",
              "       [ -9.94677448, -11.50812912, -10.03906059, ..., -13.05936241,\n",
              "        -12.94575214, -15.89485645],\n",
              "       [ -7.47916222, -10.41435719,  -9.58856964, ...,  -9.15598679,\n",
              "        -12.26987743, -15.91882706],\n",
              "       ...,\n",
              "       [ -8.46858788, -12.35991573, -12.62092686, ..., -14.14100742,\n",
              "        -13.78639698, -16.53601456],\n",
              "       [-10.57913971, -12.37317848, -10.89770412, ..., -15.47972202,\n",
              "        -13.85290623, -13.74810219],\n",
              "       [ -9.583601  , -11.29083252, -11.47842026, ..., -15.07207489,\n",
              "        -15.15394402, -13.16065311]])"
            ]
          },
          "metadata": {},
          "execution_count": 47
        }
      ]
    },
    {
      "cell_type": "markdown",
      "source": [
        "###Constuire un model avec tf.keras.sequential"
      ],
      "metadata": {
        "id": "wwfqjXSYPPe5"
      }
    },
    {
      "cell_type": "code",
      "source": [
        "import tensorflow as tf\n",
        "from tensorflow import keras"
      ],
      "metadata": {
        "id": "tyEOELqEN_Wt"
      },
      "execution_count": 26,
      "outputs": []
    },
    {
      "cell_type": "code",
      "source": [
        "keras.backend.clear_session()\n",
        "np.random.seed(42)\n",
        "tf.random.set_seed(42)"
      ],
      "metadata": {
        "id": "VaUQxfuUPwA1"
      },
      "execution_count": 27,
      "outputs": []
    },
    {
      "cell_type": "code",
      "source": [
        "model = keras.Sequential(layers=[\n",
        "        keras.layers.InputLayer(input_shape=features[0].shape),\n",
        "        keras.layers.Conv2D(16, 3, padding='same', activation=keras.activations.relu),\n",
        "        keras.layers.MaxPooling2D(),\n",
        "        keras.layers.Conv2D(32, 3, padding='same', activation=keras.activations.relu),\n",
        "        keras.layers.MaxPooling2D(),\n",
        "        keras.layers.Flatten(),\n",
        "        keras.layers.Dropout(0.5),\n",
        "        keras.layers.Dense(64, activation=keras.activations.relu),\n",
        "        keras.layers.Dense(6, activation=keras.activations.softmax)\n",
        "    ])\n",
        "model.compile(optimizer=keras.optimizers.Adam(), loss=\"sparse_categorical_crossentropy\", metrics=['accuracy'])\n",
        "model.summary()"
      ],
      "metadata": {
        "colab": {
          "base_uri": "https://localhost:8080/"
        },
        "id": "5ovf6X5JPzNG",
        "outputId": "d52e55df-9365-44e8-e0f6-de47f75076ae"
      },
      "execution_count": 42,
      "outputs": [
        {
          "output_type": "stream",
          "name": "stdout",
          "text": [
            "Model: \"sequential_1\"\n",
            "_________________________________________________________________\n",
            " Layer (type)                Output Shape              Param #   \n",
            "=================================================================\n",
            " conv2d_2 (Conv2D)           (None, 128, 32, 16)       160       \n",
            "                                                                 \n",
            " max_pooling2d_2 (MaxPooling  (None, 64, 16, 16)       0         \n",
            " 2D)                                                             \n",
            "                                                                 \n",
            " conv2d_3 (Conv2D)           (None, 64, 16, 32)        4640      \n",
            "                                                                 \n",
            " max_pooling2d_3 (MaxPooling  (None, 32, 8, 32)        0         \n",
            " 2D)                                                             \n",
            "                                                                 \n",
            " flatten_1 (Flatten)         (None, 8192)              0         \n",
            "                                                                 \n",
            " dropout_1 (Dropout)         (None, 8192)              0         \n",
            "                                                                 \n",
            " dense_2 (Dense)             (None, 64)                524352    \n",
            "                                                                 \n",
            " dense_3 (Dense)             (None, 6)                 390       \n",
            "                                                                 \n",
            "=================================================================\n",
            "Total params: 529,542\n",
            "Trainable params: 529,542\n",
            "Non-trainable params: 0\n",
            "_________________________________________________________________\n"
          ]
        }
      ]
    },
    {
      "cell_type": "code",
      "source": [
        "# Set parameters for data splitting and training\n",
        "TEST_SIZE = 0.2\n",
        "BATCH_SIZE = 25\n",
        "EPOCHS = 20\n",
        "\n",
        "# Encode Labels\n",
        "#encoded_labels = tf.one_hot(indices=labels, depth=10)\n",
        "# Split dataset to train and test data\n",
        "#X_train, X_test, y_train, y_test = train_test_split(features, encoded_labels.numpy(), test_size=TEST_SIZE)\n",
        "\n",
        "# Train the model\n",
        "early_stopping = keras.callbacks.EarlyStopping(monitor='val_loss', patience=3, restore_best_weights=True)\n",
        "history = model.fit(x=X_train_full, y=y_train_full, validation_split=TEST_SIZE, epochs=EPOCHS, batch_size=BATCH_SIZE, callbacks=[early_stopping])\n",
        "\n",
        "# Plot the training history\n",
        "fig, axs = plt.subplots(2)\n",
        "fig.set_size_inches(12, 8)\n",
        "fig.suptitle('Training History', fontsize=16)\n",
        "axs[0].plot(history.epoch, history.history['loss'], history.history['val_loss'])\n",
        "axs[0].set(title='Loss', xlabel='Epoch', ylabel='Loss')\n",
        "axs[0].legend(['loss', 'val_loss'])\n",
        "axs[1].plot(history.epoch, history.history['accuracy'], history.history['val_accuracy'])\n",
        "axs[1].set(title='Accuracy', xlabel='Epoch', ylabel='Accuracy')\n",
        "axs[1].legend(['accuracy', 'val_accuracy'])\n",
        "plt.show()"
      ],
      "metadata": {
        "colab": {
          "base_uri": "https://localhost:8080/",
          "height": 894
        },
        "id": "m5ENEnNpWCcK",
        "outputId": "d65f0d12-e67d-4f38-9d38-5c823028e567"
      },
      "execution_count": 43,
      "outputs": [
        {
          "output_type": "stream",
          "name": "stdout",
          "text": [
            "Epoch 1/20\n",
            "239/239 [==============================] - 14s 57ms/step - loss: 2.6570 - accuracy: 0.3314 - val_loss: 1.4887 - val_accuracy: 0.3678\n",
            "Epoch 2/20\n",
            "239/239 [==============================] - 13s 55ms/step - loss: 1.3891 - accuracy: 0.4459 - val_loss: 1.3913 - val_accuracy: 0.4336\n",
            "Epoch 3/20\n",
            "239/239 [==============================] - 13s 55ms/step - loss: 1.3101 - accuracy: 0.4796 - val_loss: 1.3980 - val_accuracy: 0.4262\n",
            "Epoch 4/20\n",
            "239/239 [==============================] - 14s 57ms/step - loss: 1.2627 - accuracy: 0.5044 - val_loss: 1.4699 - val_accuracy: 0.4450\n",
            "Epoch 5/20\n",
            "239/239 [==============================] - 14s 57ms/step - loss: 1.2107 - accuracy: 0.5209 - val_loss: 1.3850 - val_accuracy: 0.4624\n",
            "Epoch 6/20\n",
            "239/239 [==============================] - 13s 56ms/step - loss: 1.1781 - accuracy: 0.5390 - val_loss: 1.3989 - val_accuracy: 0.4503\n",
            "Epoch 7/20\n",
            "239/239 [==============================] - 13s 55ms/step - loss: 1.1279 - accuracy: 0.5572 - val_loss: 1.3183 - val_accuracy: 0.4926\n",
            "Epoch 8/20\n",
            "239/239 [==============================] - 13s 56ms/step - loss: 1.0903 - accuracy: 0.5778 - val_loss: 1.3596 - val_accuracy: 0.4758\n",
            "Epoch 9/20\n",
            "239/239 [==============================] - 13s 56ms/step - loss: 1.0542 - accuracy: 0.5916 - val_loss: 1.3981 - val_accuracy: 0.4624\n",
            "Epoch 10/20\n",
            "239/239 [==============================] - 13s 56ms/step - loss: 1.0143 - accuracy: 0.6099 - val_loss: 1.4117 - val_accuracy: 0.4852\n"
          ]
        },
        {
          "output_type": "display_data",
          "data": {
            "text/plain": [
              "<Figure size 864x576 with 2 Axes>"
            ],
            "image/png": "[encoded data removed]"
          },
          "metadata": {
            "needs_background": "light"
          }
        }
      ]
    }
  ]
}