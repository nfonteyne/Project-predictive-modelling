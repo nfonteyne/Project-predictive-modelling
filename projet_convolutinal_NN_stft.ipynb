{
  "nbformat": 4,
  "nbformat_minor": 0,
  "metadata": {
    "colab": {
      "provenance": [],
      "include_colab_link": true
    },
    "kernelspec": {
      "name": "python3",
      "display_name": "Python 3"
    },
    "language_info": {
      "name": "python"
    }
  },
  "cells": [
    {
      "cell_type": "markdown",
      "metadata": {
        "id": "view-in-github",
        "colab_type": "text"
      },
      "source": [
        "<a href=\"https://colab.research.google.com/github/nfonteyne/Project-predictive-modelling/blob/main/projet_convolutinal_NN_stft.ipynb\" target=\"_parent\"><img src=\"https://colab.research.google.com/assets/colab-badge.svg\" alt=\"Open In Colab\"/></a>"
      ]
    },
    {
      "cell_type": "markdown",
      "source": [
        "#Convolutional neural network"
      ],
      "metadata": {
        "id": "golhMBs-GK6l"
      }
    },
    {
      "cell_type": "markdown",
      "source": [
        "###import library"
      ],
      "metadata": {
        "id": "H8wFQNImGTLT"
      }
    },
    {
      "cell_type": "code",
      "execution_count": 7,
      "metadata": {
        "id": "mcKhod0UGKSD"
      },
      "outputs": [],
      "source": [
        "import pandas as pd\n",
        "import numpy as np\n",
        "import matplotlib.pylab as plt\n",
        "import seaborn as sns\n",
        "\n",
        "from glob import glob\n",
        "#Le module glob recherche tous les chemins correspondant à un motif \n",
        "#particulier selon les règles utilisées par le shell Unix, les résultats sont renvoyés dans un ordre arbitraire.\n",
        "\n",
        "import librosa\n",
        "import librosa.display\n",
        "import IPython.display as ipd\n",
        "\n",
        "from tqdm import tqdm\n",
        "import os"
      ]
    },
    {
      "cell_type": "markdown",
      "source": [
        "###Création mel spectrogramme pour chaque fichier audio"
      ],
      "metadata": {
        "id": "OkyI8_EAGibX"
      }
    },
    {
      "cell_type": "code",
      "source": [
        "from google.colab import drive\n",
        "drive.mount('/content/drive')"
      ],
      "metadata": {
        "colab": {
          "base_uri": "https://localhost:8080/"
        },
        "id": "FVyVhzTWosi6",
        "outputId": "a0c75c32-0550-43d6-8993-530de61742de"
      },
      "execution_count": 8,
      "outputs": [
        {
          "output_type": "stream",
          "name": "stdout",
          "text": [
            "Drive already mounted at /content/drive; to attempt to forcibly remount, call drive.mount(\"/content/drive\", force_remount=True).\n"
          ]
        }
      ]
    },
    {
      "cell_type": "code",
      "source": [],
      "metadata": {
        "id": "0IGPbPByML2M"
      },
      "execution_count": 8,
      "outputs": []
    },
    {
      "cell_type": "code",
      "source": [
        "feature_list = []\n",
        "label_list = []\n",
        "dictMel = {}\n",
        "# Iterate over all files in given source path\n",
        "print('Preparing feature dataset and labels.')\n",
        "for file in tqdm(os.listdir('/content/drive/MyDrive/projet supervised learning on your own/supervised learning on your own/AudioWAV')):\n",
        "    # Skip if it's not a wav file\n",
        "    if not file.endswith('.wav'):\n",
        "        continue\n",
        "    # Load audio and stretch it to length 1s\n",
        "    audio_path = os.path.join('/content/drive/MyDrive/projet supervised learning on your own/supervised learning on your own/AudioWAV', file)\n",
        "    audio, sr = librosa.load(path=audio_path, sr=None)\n",
        "    audio = librosa.effects.time_stretch(y=audio, rate=len(audio)/sr)\n",
        "    # Calculate features and get the label from the filename\n",
        "    #mels = librosa.feature.melspectrogram(y=audio, sr=sr, n_fft=2048, hop_length=512)\n",
        "    stft = np.abs(librosa.stft(audio))\n",
        "    #mels_db = librosa.power_to_db(S=mels, ref=1.0)\n",
        "    if stft.shape == (1025,32):\n",
        "      feature_list.append(stft.reshape((1025, 32, 1)))\n",
        "      filename = str(file)[:-4]\n",
        "      label_list.append(filename)\n",
        "      dictMel[filename] = stft\n",
        "features = np.array(feature_list)\n",
        "labels = np.array(label_list)"
      ],
      "metadata": {
        "colab": {
          "base_uri": "https://localhost:8080/"
        },
        "id": "XdDieOokGg6D",
        "outputId": "6e014e2a-ab18-47b3-ce2c-730ef8b7ef0a"
      },
      "execution_count": 9,
      "outputs": [
        {
          "output_type": "stream",
          "name": "stdout",
          "text": [
            "Preparing feature dataset and labels.\n"
          ]
        },
        {
          "output_type": "stream",
          "name": "stderr",
          "text": [
            "100%|██████████| 7447/7447 [01:58<00:00, 62.82it/s]\n"
          ]
        }
      ]
    },
    {
      "cell_type": "code",
      "source": [
        "features.shape"
      ],
      "metadata": {
        "colab": {
          "base_uri": "https://localhost:8080/"
        },
        "id": "qVWCWk-XUcfU",
        "outputId": "42f41d37-0841-4c2e-b691-8513a58e2ddf"
      },
      "execution_count": 10,
      "outputs": [
        {
          "output_type": "execute_result",
          "data": {
            "text/plain": [
              "(7447, 1025, 32, 1)"
            ]
          },
          "metadata": {},
          "execution_count": 10
        }
      ]
    },
    {
      "cell_type": "code",
      "source": [
        "labels.shape"
      ],
      "metadata": {
        "colab": {
          "base_uri": "https://localhost:8080/"
        },
        "id": "DQNAdMB8UhbY",
        "outputId": "68bd8b89-a27e-4e2f-8463-4cf882884f7a"
      },
      "execution_count": 11,
      "outputs": [
        {
          "output_type": "execute_result",
          "data": {
            "text/plain": [
              "(7447,)"
            ]
          },
          "metadata": {},
          "execution_count": 11
        }
      ]
    },
    {
      "cell_type": "markdown",
      "source": [
        "###Tri des élements par ordre de nom de fichier"
      ],
      "metadata": {
        "id": "dW-HJZ8iGtci"
      }
    },
    {
      "cell_type": "code",
      "source": [
        "dataMel = pd.Series(dictMel)\n",
        "dataMel=dataMel.sort_index()\n",
        "listMel =dataMel.to_list()\n",
        "liste_son=dataMel.index.to_list()"
      ],
      "metadata": {
        "id": "PXINSSfHGcSh"
      },
      "execution_count": 12,
      "outputs": []
    },
    {
      "cell_type": "markdown",
      "source": [
        "###On converti en matrice 3D"
      ],
      "metadata": {
        "id": "ZJvTShBoG-QI"
      }
    },
    {
      "cell_type": "code",
      "source": [
        "def list_to_matrix(X):\n",
        "  matrix = np.zeros(shape=(len(X),1025, 32))\n",
        "  for i in range(len(X)):\n",
        "    if X[i].shape == (1025, 32):\n",
        "      #print(X[i].shape, ' son num : ',i)\n",
        "      matrix[i]=X[i]\n",
        "  return matrix\n",
        "\n",
        "matrix = list_to_matrix(listMel)"
      ],
      "metadata": {
        "id": "ozld-IhdHEzj"
      },
      "execution_count": 13,
      "outputs": []
    },
    {
      "cell_type": "code",
      "source": [
        "matrix.shape"
      ],
      "metadata": {
        "id": "tXdqyK-IQw6N",
        "outputId": "9a44415e-ee63-45cb-d6c9-6d90933ef69d",
        "colab": {
          "base_uri": "https://localhost:8080/"
        }
      },
      "execution_count": 14,
      "outputs": [
        {
          "output_type": "execute_result",
          "data": {
            "text/plain": [
              "(7447, 1025, 32)"
            ]
          },
          "metadata": {},
          "execution_count": 14
        }
      ]
    },
    {
      "cell_type": "code",
      "source": [
        "\n",
        "np.median(matrix[0])"
      ],
      "metadata": {
        "colab": {
          "base_uri": "https://localhost:8080/"
        },
        "id": "IcpqnSud03Rt",
        "outputId": "7b2b53a3-f187-4d74-b36b-e69070e45a25"
      },
      "execution_count": 15,
      "outputs": [
        {
          "output_type": "execute_result",
          "data": {
            "text/plain": [
              "0.046110447496175766"
            ]
          },
          "metadata": {},
          "execution_count": 15
        }
      ]
    },
    {
      "cell_type": "code",
      "source": [
        "matrix.shape[0]"
      ],
      "metadata": {
        "id": "Gy9CtIS5S-NU",
        "outputId": "7c0c069c-7e0e-43bb-f46b-09f89c2c233d",
        "colab": {
          "base_uri": "https://localhost:8080/"
        }
      },
      "execution_count": 16,
      "outputs": [
        {
          "output_type": "execute_result",
          "data": {
            "text/plain": [
              "7447"
            ]
          },
          "metadata": {},
          "execution_count": 16
        }
      ]
    },
    {
      "cell_type": "code",
      "source": [
        "list_max=[]\n",
        "list_min=[]\n",
        "list_med=[]\n",
        "for i in range(matrix.shape[0]):\n",
        "  list_max.append(matrix[i].max())\n",
        "  list_min.append(matrix[i].min())\n",
        "  list_med.append(np.median(matrix[i]))\n"
      ],
      "metadata": {
        "id": "FY3iP0cjS3CN"
      },
      "execution_count": 17,
      "outputs": []
    },
    {
      "cell_type": "code",
      "source": [
        "arrmax = np.asarray(list_max)\n",
        "arrmin = np.asarray(list_min)\n",
        "arrmed = np.asarray(list_med)"
      ],
      "metadata": {
        "id": "ugB8hL_AYRSv"
      },
      "execution_count": 18,
      "outputs": []
    },
    {
      "cell_type": "code",
      "source": [
        "pd.Series(list_max).describe()"
      ],
      "metadata": {
        "id": "e2cOrJ4OY8LM",
        "outputId": "27f7d366-459c-4eb9-ec0c-d124e875e32a",
        "colab": {
          "base_uri": "https://localhost:8080/"
        }
      },
      "execution_count": 19,
      "outputs": [
        {
          "output_type": "execute_result",
          "data": {
            "text/plain": [
              "count    7447.000000\n",
              "mean       21.046429\n",
              "std        24.536874\n",
              "min         0.000000\n",
              "25%         6.795559\n",
              "50%        12.077590\n",
              "75%        24.844767\n",
              "max       220.269135\n",
              "dtype: float64"
            ]
          },
          "metadata": {},
          "execution_count": 19
        }
      ]
    },
    {
      "cell_type": "code",
      "source": [
        "pd.Series(list_min).describe()"
      ],
      "metadata": {
        "id": "W1Pjoix2V0_A",
        "outputId": "2181cbbe-7e47-426f-b7db-0c0cf841346a",
        "colab": {
          "base_uri": "https://localhost:8080/"
        }
      },
      "execution_count": 20,
      "outputs": [
        {
          "output_type": "execute_result",
          "data": {
            "text/plain": [
              "count    7447.000000\n",
              "mean        0.000015\n",
              "std         0.000015\n",
              "min         0.000000\n",
              "25%         0.000004\n",
              "50%         0.000010\n",
              "75%         0.000021\n",
              "max         0.000127\n",
              "dtype: float64"
            ]
          },
          "metadata": {},
          "execution_count": 20
        }
      ]
    },
    {
      "cell_type": "code",
      "source": [
        "pd.Series(list_med).describe()"
      ],
      "metadata": {
        "id": "z1I4PyhlV1nr",
        "outputId": "d9be3b27-4c45-41e4-cc61-1c6858a42287",
        "colab": {
          "base_uri": "https://localhost:8080/"
        }
      },
      "execution_count": 21,
      "outputs": [
        {
          "output_type": "execute_result",
          "data": {
            "text/plain": [
              "count    7447.000000\n",
              "mean        0.029736\n",
              "std         0.036216\n",
              "min         0.000000\n",
              "25%         0.012200\n",
              "50%         0.016453\n",
              "75%         0.030283\n",
              "max         0.438199\n",
              "dtype: float64"
            ]
          },
          "metadata": {},
          "execution_count": 21
        }
      ]
    },
    {
      "cell_type": "markdown",
      "source": [
        "###Récupération des labels"
      ],
      "metadata": {
        "id": "qavyjVdwHMsi"
      }
    },
    {
      "cell_type": "code",
      "source": [
        "crema_directory_list = os.listdir('/content/drive/MyDrive/projet supervised learning on your own/supervised learning on your own/AudioWAV')\n",
        "\n",
        "file_emotion = []\n",
        "file_path = []\n",
        "\n",
        "for file in crema_directory_list:\n",
        "    # storing file paths\n",
        "    file_path.append(file)\n",
        "    # storing file emotions\n",
        "    part=file.split('_')\n",
        "    if part[2] == 'SAD':\n",
        "        file_emotion.append('sad')\n",
        "    elif part[2] == 'ANG':\n",
        "        file_emotion.append('angry')\n",
        "    elif part[2] == 'DIS':\n",
        "        file_emotion.append('disgust')\n",
        "    elif part[2] == 'FEA':\n",
        "        file_emotion.append('fear')\n",
        "    elif part[2] == 'HAP':\n",
        "        file_emotion.append('happy')\n",
        "    elif part[2] == 'NEU':\n",
        "        file_emotion.append('neutral')\n",
        "    else:\n",
        "        file_emotion.append('Unknown')\n",
        "        \n",
        "# dataframe for emotion of files\n",
        "emotion_df = pd.DataFrame(file_emotion, columns=['Emotions'])\n",
        "\n",
        "# dataframe for path of files.\n",
        "path_df = pd.DataFrame(file_path, columns=['Path'])\n",
        "Crema_df = pd.concat([emotion_df, path_df], axis=1)\n",
        "Crema_df.head()"
      ],
      "metadata": {
        "colab": {
          "base_uri": "https://localhost:8080/",
          "height": 204
        },
        "id": "KrNHC5RUygyj",
        "outputId": "d5fd85a0-1fc7-4a3e-a5c8-71f985a877e4"
      },
      "execution_count": 22,
      "outputs": [
        {
          "output_type": "execute_result",
          "data": {
            "text/plain": [
              "  Emotions                 Path\n",
              "0  disgust  1079_TSI_DIS_XX.wav\n",
              "1     fear  1079_TIE_FEA_XX.wav\n",
              "2  disgust  1080_DFA_DIS_XX.wav\n",
              "3  disgust  1079_TIE_DIS_XX.wav\n",
              "4  neutral  1079_TIE_NEU_XX.wav"
            ],
            "text/html": [
              "\n",
              "  <div id=\"df-f0de5f8d-f3f1-4567-9132-147dc4a1e000\">\n",
              "    <div class=\"colab-df-container\">\n",
              "      <div>\n",
              "<style scoped>\n",
              "    .dataframe tbody tr th:only-of-type {\n",
              "        vertical-align: middle;\n",
              "    }\n",
              "\n",
              "    .dataframe tbody tr th {\n",
              "        vertical-align: top;\n",
              "    }\n",
              "\n",
              "    .dataframe thead th {\n",
              "        text-align: right;\n",
              "    }\n",
              "</style>\n",
              "<table border=\"1\" class=\"dataframe\">\n",
              "  <thead>\n",
              "    <tr style=\"text-align: right;\">\n",
              "      <th></th>\n",
              "      <th>Emotions</th>\n",
              "      <th>Path</th>\n",
              "    </tr>\n",
              "  </thead>\n",
              "  <tbody>\n",
              "    <tr>\n",
              "      <th>0</th>\n",
              "      <td>disgust</td>\n",
              "      <td>1079_TSI_DIS_XX.wav</td>\n",
              "    </tr>\n",
              "    <tr>\n",
              "      <th>1</th>\n",
              "      <td>fear</td>\n",
              "      <td>1079_TIE_FEA_XX.wav</td>\n",
              "    </tr>\n",
              "    <tr>\n",
              "      <th>2</th>\n",
              "      <td>disgust</td>\n",
              "      <td>1080_DFA_DIS_XX.wav</td>\n",
              "    </tr>\n",
              "    <tr>\n",
              "      <th>3</th>\n",
              "      <td>disgust</td>\n",
              "      <td>1079_TIE_DIS_XX.wav</td>\n",
              "    </tr>\n",
              "    <tr>\n",
              "      <th>4</th>\n",
              "      <td>neutral</td>\n",
              "      <td>1079_TIE_NEU_XX.wav</td>\n",
              "    </tr>\n",
              "  </tbody>\n",
              "</table>\n",
              "</div>\n",
              "      <button class=\"colab-df-convert\" onclick=\"convertToInteractive('df-f0de5f8d-f3f1-4567-9132-147dc4a1e000')\"\n",
              "              title=\"Convert this dataframe to an interactive table.\"\n",
              "              style=\"display:none;\">\n",
              "        \n",
              "  <svg xmlns=\"http://www.w3.org/2000/svg\" height=\"24px\"viewBox=\"0 0 24 24\"\n",
              "       width=\"24px\">\n",
              "    <path d=\"M0 0h24v24H0V0z\" fill=\"none\"/>\n",
              "    <path d=\"M18.56 5.44l.94 2.06.94-2.06 2.06-.94-2.06-.94-.94-2.06-.94 2.06-2.06.94zm-11 1L8.5 8.5l.94-2.06 2.06-.94-2.06-.94L8.5 2.5l-.94 2.06-2.06.94zm10 10l.94 2.06.94-2.06 2.06-.94-2.06-.94-.94-2.06-.94 2.06-2.06.94z\"/><path d=\"M17.41 7.96l-1.37-1.37c-.4-.4-.92-.59-1.43-.59-.52 0-1.04.2-1.43.59L10.3 9.45l-7.72 7.72c-.78.78-.78 2.05 0 2.83L4 21.41c.39.39.9.59 1.41.59.51 0 1.02-.2 1.41-.59l7.78-7.78 2.81-2.81c.8-.78.8-2.07 0-2.86zM5.41 20L4 18.59l7.72-7.72 1.47 1.35L5.41 20z\"/>\n",
              "  </svg>\n",
              "      </button>\n",
              "      \n",
              "  <style>\n",
              "    .colab-df-container {\n",
              "      display:flex;\n",
              "      flex-wrap:wrap;\n",
              "      gap: 12px;\n",
              "    }\n",
              "\n",
              "    .colab-df-convert {\n",
              "      background-color: #E8F0FE;\n",
              "      border: none;\n",
              "      border-radius: 50%;\n",
              "      cursor: pointer;\n",
              "      display: none;\n",
              "      fill: #1967D2;\n",
              "      height: 32px;\n",
              "      padding: 0 0 0 0;\n",
              "      width: 32px;\n",
              "    }\n",
              "\n",
              "    .colab-df-convert:hover {\n",
              "      background-color: #E2EBFA;\n",
              "      box-shadow: 0px 1px 2px rgba(60, 64, 67, 0.3), 0px 1px 3px 1px rgba(60, 64, 67, 0.15);\n",
              "      fill: #174EA6;\n",
              "    }\n",
              "\n",
              "    [theme=dark] .colab-df-convert {\n",
              "      background-color: #3B4455;\n",
              "      fill: #D2E3FC;\n",
              "    }\n",
              "\n",
              "    [theme=dark] .colab-df-convert:hover {\n",
              "      background-color: #434B5C;\n",
              "      box-shadow: 0px 1px 3px 1px rgba(0, 0, 0, 0.15);\n",
              "      filter: drop-shadow(0px 1px 2px rgba(0, 0, 0, 0.3));\n",
              "      fill: #FFFFFF;\n",
              "    }\n",
              "  </style>\n",
              "\n",
              "      <script>\n",
              "        const buttonEl =\n",
              "          document.querySelector('#df-f0de5f8d-f3f1-4567-9132-147dc4a1e000 button.colab-df-convert');\n",
              "        buttonEl.style.display =\n",
              "          google.colab.kernel.accessAllowed ? 'block' : 'none';\n",
              "\n",
              "        async function convertToInteractive(key) {\n",
              "          const element = document.querySelector('#df-f0de5f8d-f3f1-4567-9132-147dc4a1e000');\n",
              "          const dataTable =\n",
              "            await google.colab.kernel.invokeFunction('convertToInteractive',\n",
              "                                                     [key], {});\n",
              "          if (!dataTable) return;\n",
              "\n",
              "          const docLinkHtml = 'Like what you see? Visit the ' +\n",
              "            '<a target=\"_blank\" href=https://colab.research.google.com/notebooks/data_table.ipynb>data table notebook</a>'\n",
              "            + ' to learn more about interactive tables.';\n",
              "          element.innerHTML = '';\n",
              "          dataTable['output_type'] = 'display_data';\n",
              "          await google.colab.output.renderOutput(dataTable, element);\n",
              "          const docLink = document.createElement('div');\n",
              "          docLink.innerHTML = docLinkHtml;\n",
              "          element.appendChild(docLink);\n",
              "        }\n",
              "      </script>\n",
              "    </div>\n",
              "  </div>\n",
              "  "
            ]
          },
          "metadata": {},
          "execution_count": 22
        }
      ]
    },
    {
      "cell_type": "code",
      "source": [
        "Crema_df = Crema_df.sort_values(by=['Path'], ascending=True)"
      ],
      "metadata": {
        "id": "A754E_XkmyEw"
      },
      "execution_count": 23,
      "outputs": []
    },
    {
      "cell_type": "code",
      "source": [
        "Crema_df.reset_index(drop=True)"
      ],
      "metadata": {
        "colab": {
          "base_uri": "https://localhost:8080/",
          "height": 419
        },
        "id": "Z8Dmisf6zjnU",
        "outputId": "4f9ff849-5c39-4346-859e-ee20fa8f9c25"
      },
      "execution_count": 24,
      "outputs": [
        {
          "output_type": "execute_result",
          "data": {
            "text/plain": [
              "     Emotions                 Path\n",
              "0       angry  1001_DFA_ANG_XX.wav\n",
              "1     disgust  1001_DFA_DIS_XX.wav\n",
              "2        fear  1001_DFA_FEA_XX.wav\n",
              "3       happy  1001_DFA_HAP_XX.wav\n",
              "4     neutral  1001_DFA_NEU_XX.wav\n",
              "...       ...                  ...\n",
              "7442  disgust  1091_WSI_DIS_XX.wav\n",
              "7443     fear  1091_WSI_FEA_XX.wav\n",
              "7444    happy  1091_WSI_HAP_XX.wav\n",
              "7445  neutral  1091_WSI_NEU_XX.wav\n",
              "7446      sad  1091_WSI_SAD_XX.wav\n",
              "\n",
              "[7447 rows x 2 columns]"
            ],
            "text/html": [
              "\n",
              "  <div id=\"df-2b57b39c-b313-406a-aac3-8ed9392815a6\">\n",
              "    <div class=\"colab-df-container\">\n",
              "      <div>\n",
              "<style scoped>\n",
              "    .dataframe tbody tr th:only-of-type {\n",
              "        vertical-align: middle;\n",
              "    }\n",
              "\n",
              "    .dataframe tbody tr th {\n",
              "        vertical-align: top;\n",
              "    }\n",
              "\n",
              "    .dataframe thead th {\n",
              "        text-align: right;\n",
              "    }\n",
              "</style>\n",
              "<table border=\"1\" class=\"dataframe\">\n",
              "  <thead>\n",
              "    <tr style=\"text-align: right;\">\n",
              "      <th></th>\n",
              "      <th>Emotions</th>\n",
              "      <th>Path</th>\n",
              "    </tr>\n",
              "  </thead>\n",
              "  <tbody>\n",
              "    <tr>\n",
              "      <th>0</th>\n",
              "      <td>angry</td>\n",
              "      <td>1001_DFA_ANG_XX.wav</td>\n",
              "    </tr>\n",
              "    <tr>\n",
              "      <th>1</th>\n",
              "      <td>disgust</td>\n",
              "      <td>1001_DFA_DIS_XX.wav</td>\n",
              "    </tr>\n",
              "    <tr>\n",
              "      <th>2</th>\n",
              "      <td>fear</td>\n",
              "      <td>1001_DFA_FEA_XX.wav</td>\n",
              "    </tr>\n",
              "    <tr>\n",
              "      <th>3</th>\n",
              "      <td>happy</td>\n",
              "      <td>1001_DFA_HAP_XX.wav</td>\n",
              "    </tr>\n",
              "    <tr>\n",
              "      <th>4</th>\n",
              "      <td>neutral</td>\n",
              "      <td>1001_DFA_NEU_XX.wav</td>\n",
              "    </tr>\n",
              "    <tr>\n",
              "      <th>...</th>\n",
              "      <td>...</td>\n",
              "      <td>...</td>\n",
              "    </tr>\n",
              "    <tr>\n",
              "      <th>7442</th>\n",
              "      <td>disgust</td>\n",
              "      <td>1091_WSI_DIS_XX.wav</td>\n",
              "    </tr>\n",
              "    <tr>\n",
              "      <th>7443</th>\n",
              "      <td>fear</td>\n",
              "      <td>1091_WSI_FEA_XX.wav</td>\n",
              "    </tr>\n",
              "    <tr>\n",
              "      <th>7444</th>\n",
              "      <td>happy</td>\n",
              "      <td>1091_WSI_HAP_XX.wav</td>\n",
              "    </tr>\n",
              "    <tr>\n",
              "      <th>7445</th>\n",
              "      <td>neutral</td>\n",
              "      <td>1091_WSI_NEU_XX.wav</td>\n",
              "    </tr>\n",
              "    <tr>\n",
              "      <th>7446</th>\n",
              "      <td>sad</td>\n",
              "      <td>1091_WSI_SAD_XX.wav</td>\n",
              "    </tr>\n",
              "  </tbody>\n",
              "</table>\n",
              "<p>7447 rows × 2 columns</p>\n",
              "</div>\n",
              "      <button class=\"colab-df-convert\" onclick=\"convertToInteractive('df-2b57b39c-b313-406a-aac3-8ed9392815a6')\"\n",
              "              title=\"Convert this dataframe to an interactive table.\"\n",
              "              style=\"display:none;\">\n",
              "        \n",
              "  <svg xmlns=\"http://www.w3.org/2000/svg\" height=\"24px\"viewBox=\"0 0 24 24\"\n",
              "       width=\"24px\">\n",
              "    <path d=\"M0 0h24v24H0V0z\" fill=\"none\"/>\n",
              "    <path d=\"M18.56 5.44l.94 2.06.94-2.06 2.06-.94-2.06-.94-.94-2.06-.94 2.06-2.06.94zm-11 1L8.5 8.5l.94-2.06 2.06-.94-2.06-.94L8.5 2.5l-.94 2.06-2.06.94zm10 10l.94 2.06.94-2.06 2.06-.94-2.06-.94-.94-2.06-.94 2.06-2.06.94z\"/><path d=\"M17.41 7.96l-1.37-1.37c-.4-.4-.92-.59-1.43-.59-.52 0-1.04.2-1.43.59L10.3 9.45l-7.72 7.72c-.78.78-.78 2.05 0 2.83L4 21.41c.39.39.9.59 1.41.59.51 0 1.02-.2 1.41-.59l7.78-7.78 2.81-2.81c.8-.78.8-2.07 0-2.86zM5.41 20L4 18.59l7.72-7.72 1.47 1.35L5.41 20z\"/>\n",
              "  </svg>\n",
              "      </button>\n",
              "      \n",
              "  <style>\n",
              "    .colab-df-container {\n",
              "      display:flex;\n",
              "      flex-wrap:wrap;\n",
              "      gap: 12px;\n",
              "    }\n",
              "\n",
              "    .colab-df-convert {\n",
              "      background-color: #E8F0FE;\n",
              "      border: none;\n",
              "      border-radius: 50%;\n",
              "      cursor: pointer;\n",
              "      display: none;\n",
              "      fill: #1967D2;\n",
              "      height: 32px;\n",
              "      padding: 0 0 0 0;\n",
              "      width: 32px;\n",
              "    }\n",
              "\n",
              "    .colab-df-convert:hover {\n",
              "      background-color: #E2EBFA;\n",
              "      box-shadow: 0px 1px 2px rgba(60, 64, 67, 0.3), 0px 1px 3px 1px rgba(60, 64, 67, 0.15);\n",
              "      fill: #174EA6;\n",
              "    }\n",
              "\n",
              "    [theme=dark] .colab-df-convert {\n",
              "      background-color: #3B4455;\n",
              "      fill: #D2E3FC;\n",
              "    }\n",
              "\n",
              "    [theme=dark] .colab-df-convert:hover {\n",
              "      background-color: #434B5C;\n",
              "      box-shadow: 0px 1px 3px 1px rgba(0, 0, 0, 0.15);\n",
              "      filter: drop-shadow(0px 1px 2px rgba(0, 0, 0, 0.3));\n",
              "      fill: #FFFFFF;\n",
              "    }\n",
              "  </style>\n",
              "\n",
              "      <script>\n",
              "        const buttonEl =\n",
              "          document.querySelector('#df-2b57b39c-b313-406a-aac3-8ed9392815a6 button.colab-df-convert');\n",
              "        buttonEl.style.display =\n",
              "          google.colab.kernel.accessAllowed ? 'block' : 'none';\n",
              "\n",
              "        async function convertToInteractive(key) {\n",
              "          const element = document.querySelector('#df-2b57b39c-b313-406a-aac3-8ed9392815a6');\n",
              "          const dataTable =\n",
              "            await google.colab.kernel.invokeFunction('convertToInteractive',\n",
              "                                                     [key], {});\n",
              "          if (!dataTable) return;\n",
              "\n",
              "          const docLinkHtml = 'Like what you see? Visit the ' +\n",
              "            '<a target=\"_blank\" href=https://colab.research.google.com/notebooks/data_table.ipynb>data table notebook</a>'\n",
              "            + ' to learn more about interactive tables.';\n",
              "          element.innerHTML = '';\n",
              "          dataTable['output_type'] = 'display_data';\n",
              "          await google.colab.output.renderOutput(dataTable, element);\n",
              "          const docLink = document.createElement('div');\n",
              "          docLink.innerHTML = docLinkHtml;\n",
              "          element.appendChild(docLink);\n",
              "        }\n",
              "      </script>\n",
              "    </div>\n",
              "  </div>\n",
              "  "
            ]
          },
          "metadata": {},
          "execution_count": 24
        }
      ]
    },
    {
      "cell_type": "code",
      "source": [
        "Crema_df.head()"
      ],
      "metadata": {
        "id": "yCvbCVbDEMEd",
        "outputId": "560e3856-d3c3-40ed-caa6-17377ac38bd0",
        "colab": {
          "base_uri": "https://localhost:8080/",
          "height": 204
        }
      },
      "execution_count": 25,
      "outputs": [
        {
          "output_type": "execute_result",
          "data": {
            "text/plain": [
              "     Emotions                 Path\n",
              "7000    angry  1001_DFA_ANG_XX.wav\n",
              "7001  disgust  1001_DFA_DIS_XX.wav\n",
              "7002     fear  1001_DFA_FEA_XX.wav\n",
              "7003    happy  1001_DFA_HAP_XX.wav\n",
              "7006  neutral  1001_DFA_NEU_XX.wav"
            ],
            "text/html": [
              "\n",
              "  <div id=\"df-87d63881-6b75-4d4a-994f-c962e0e83bbd\">\n",
              "    <div class=\"colab-df-container\">\n",
              "      <div>\n",
              "<style scoped>\n",
              "    .dataframe tbody tr th:only-of-type {\n",
              "        vertical-align: middle;\n",
              "    }\n",
              "\n",
              "    .dataframe tbody tr th {\n",
              "        vertical-align: top;\n",
              "    }\n",
              "\n",
              "    .dataframe thead th {\n",
              "        text-align: right;\n",
              "    }\n",
              "</style>\n",
              "<table border=\"1\" class=\"dataframe\">\n",
              "  <thead>\n",
              "    <tr style=\"text-align: right;\">\n",
              "      <th></th>\n",
              "      <th>Emotions</th>\n",
              "      <th>Path</th>\n",
              "    </tr>\n",
              "  </thead>\n",
              "  <tbody>\n",
              "    <tr>\n",
              "      <th>7000</th>\n",
              "      <td>angry</td>\n",
              "      <td>1001_DFA_ANG_XX.wav</td>\n",
              "    </tr>\n",
              "    <tr>\n",
              "      <th>7001</th>\n",
              "      <td>disgust</td>\n",
              "      <td>1001_DFA_DIS_XX.wav</td>\n",
              "    </tr>\n",
              "    <tr>\n",
              "      <th>7002</th>\n",
              "      <td>fear</td>\n",
              "      <td>1001_DFA_FEA_XX.wav</td>\n",
              "    </tr>\n",
              "    <tr>\n",
              "      <th>7003</th>\n",
              "      <td>happy</td>\n",
              "      <td>1001_DFA_HAP_XX.wav</td>\n",
              "    </tr>\n",
              "    <tr>\n",
              "      <th>7006</th>\n",
              "      <td>neutral</td>\n",
              "      <td>1001_DFA_NEU_XX.wav</td>\n",
              "    </tr>\n",
              "  </tbody>\n",
              "</table>\n",
              "</div>\n",
              "      <button class=\"colab-df-convert\" onclick=\"convertToInteractive('df-87d63881-6b75-4d4a-994f-c962e0e83bbd')\"\n",
              "              title=\"Convert this dataframe to an interactive table.\"\n",
              "              style=\"display:none;\">\n",
              "        \n",
              "  <svg xmlns=\"http://www.w3.org/2000/svg\" height=\"24px\"viewBox=\"0 0 24 24\"\n",
              "       width=\"24px\">\n",
              "    <path d=\"M0 0h24v24H0V0z\" fill=\"none\"/>\n",
              "    <path d=\"M18.56 5.44l.94 2.06.94-2.06 2.06-.94-2.06-.94-.94-2.06-.94 2.06-2.06.94zm-11 1L8.5 8.5l.94-2.06 2.06-.94-2.06-.94L8.5 2.5l-.94 2.06-2.06.94zm10 10l.94 2.06.94-2.06 2.06-.94-2.06-.94-.94-2.06-.94 2.06-2.06.94z\"/><path d=\"M17.41 7.96l-1.37-1.37c-.4-.4-.92-.59-1.43-.59-.52 0-1.04.2-1.43.59L10.3 9.45l-7.72 7.72c-.78.78-.78 2.05 0 2.83L4 21.41c.39.39.9.59 1.41.59.51 0 1.02-.2 1.41-.59l7.78-7.78 2.81-2.81c.8-.78.8-2.07 0-2.86zM5.41 20L4 18.59l7.72-7.72 1.47 1.35L5.41 20z\"/>\n",
              "  </svg>\n",
              "      </button>\n",
              "      \n",
              "  <style>\n",
              "    .colab-df-container {\n",
              "      display:flex;\n",
              "      flex-wrap:wrap;\n",
              "      gap: 12px;\n",
              "    }\n",
              "\n",
              "    .colab-df-convert {\n",
              "      background-color: #E8F0FE;\n",
              "      border: none;\n",
              "      border-radius: 50%;\n",
              "      cursor: pointer;\n",
              "      display: none;\n",
              "      fill: #1967D2;\n",
              "      height: 32px;\n",
              "      padding: 0 0 0 0;\n",
              "      width: 32px;\n",
              "    }\n",
              "\n",
              "    .colab-df-convert:hover {\n",
              "      background-color: #E2EBFA;\n",
              "      box-shadow: 0px 1px 2px rgba(60, 64, 67, 0.3), 0px 1px 3px 1px rgba(60, 64, 67, 0.15);\n",
              "      fill: #174EA6;\n",
              "    }\n",
              "\n",
              "    [theme=dark] .colab-df-convert {\n",
              "      background-color: #3B4455;\n",
              "      fill: #D2E3FC;\n",
              "    }\n",
              "\n",
              "    [theme=dark] .colab-df-convert:hover {\n",
              "      background-color: #434B5C;\n",
              "      box-shadow: 0px 1px 3px 1px rgba(0, 0, 0, 0.15);\n",
              "      filter: drop-shadow(0px 1px 2px rgba(0, 0, 0, 0.3));\n",
              "      fill: #FFFFFF;\n",
              "    }\n",
              "  </style>\n",
              "\n",
              "      <script>\n",
              "        const buttonEl =\n",
              "          document.querySelector('#df-87d63881-6b75-4d4a-994f-c962e0e83bbd button.colab-df-convert');\n",
              "        buttonEl.style.display =\n",
              "          google.colab.kernel.accessAllowed ? 'block' : 'none';\n",
              "\n",
              "        async function convertToInteractive(key) {\n",
              "          const element = document.querySelector('#df-87d63881-6b75-4d4a-994f-c962e0e83bbd');\n",
              "          const dataTable =\n",
              "            await google.colab.kernel.invokeFunction('convertToInteractive',\n",
              "                                                     [key], {});\n",
              "          if (!dataTable) return;\n",
              "\n",
              "          const docLinkHtml = 'Like what you see? Visit the ' +\n",
              "            '<a target=\"_blank\" href=https://colab.research.google.com/notebooks/data_table.ipynb>data table notebook</a>'\n",
              "            + ' to learn more about interactive tables.';\n",
              "          element.innerHTML = '';\n",
              "          dataTable['output_type'] = 'display_data';\n",
              "          await google.colab.output.renderOutput(dataTable, element);\n",
              "          const docLink = document.createElement('div');\n",
              "          docLink.innerHTML = docLinkHtml;\n",
              "          element.appendChild(docLink);\n",
              "        }\n",
              "      </script>\n",
              "    </div>\n",
              "  </div>\n",
              "  "
            ]
          },
          "metadata": {},
          "execution_count": 25
        }
      ]
    },
    {
      "cell_type": "markdown",
      "source": [
        "On crée la target "
      ],
      "metadata": {
        "id": "qg9tLOtLdadN"
      }
    },
    {
      "cell_type": "markdown",
      "source": [
        "### Préparation des données pour le réseau de neuronnes"
      ],
      "metadata": {
        "id": "0ip4wVQiNkvd"
      }
    },
    {
      "cell_type": "code",
      "source": [
        "from sklearn import preprocessing\n",
        "le = preprocessing.LabelEncoder()"
      ],
      "metadata": {
        "id": "39jDXiWRzzfP"
      },
      "execution_count": 26,
      "outputs": []
    },
    {
      "cell_type": "code",
      "source": [
        "X_train_full = matrix\n",
        "y_train_full = le.fit_transform(Crema_df.Emotions)"
      ],
      "metadata": {
        "id": "bBMSdRcUNl2O"
      },
      "execution_count": 27,
      "outputs": []
    },
    {
      "cell_type": "code",
      "source": [
        "np.unique(y_train_full)"
      ],
      "metadata": {
        "id": "-eELMMTaCD_r",
        "outputId": "b3e7028f-2b6f-4277-b06b-2148c0afef7f",
        "colab": {
          "base_uri": "https://localhost:8080/"
        }
      },
      "execution_count": 28,
      "outputs": [
        {
          "output_type": "execute_result",
          "data": {
            "text/plain": [
              "array([0, 1, 2, 3, 4, 5])"
            ]
          },
          "metadata": {},
          "execution_count": 28
        }
      ]
    },
    {
      "cell_type": "code",
      "source": [
        "X_train_full.max(1)"
      ],
      "metadata": {
        "colab": {
          "base_uri": "https://localhost:8080/"
        },
        "id": "Po4-CbWE0cXZ",
        "outputId": "b5680972-f099-4382-909e-7897ed9151c4"
      },
      "execution_count": 29,
      "outputs": [
        {
          "output_type": "execute_result",
          "data": {
            "text/plain": [
              "array([[0.19479083, 0.65389538, 1.20486915, ..., 1.19960749, 1.38114452,\n",
              "        1.39568949],\n",
              "       [1.25230014, 1.12756681, 1.10011554, ..., 0.8728286 , 0.97225136,\n",
              "        0.77041531],\n",
              "       [1.51629984, 1.16941345, 1.27301764, ..., 1.16382945, 0.95041305,\n",
              "        0.60015917],\n",
              "       ...,\n",
              "       [1.46805966, 0.81688392, 0.94669831, ..., 0.6548807 , 0.73659188,\n",
              "        0.76626468],\n",
              "       [1.10450029, 0.85166365, 1.09668434, ..., 0.67917055, 0.84685612,\n",
              "        0.79311317],\n",
              "       [1.26857185, 0.98004895, 1.00535977, ..., 0.63495821, 0.68689448,\n",
              "        1.04419339]])"
            ]
          },
          "metadata": {},
          "execution_count": 29
        }
      ]
    },
    {
      "cell_type": "markdown",
      "source": [
        "###Constuire un model avec tf.keras.sequential"
      ],
      "metadata": {
        "id": "wwfqjXSYPPe5"
      }
    },
    {
      "cell_type": "code",
      "source": [
        "import tensorflow as tf\n",
        "from tensorflow import keras"
      ],
      "metadata": {
        "id": "tyEOELqEN_Wt"
      },
      "execution_count": 30,
      "outputs": []
    },
    {
      "cell_type": "code",
      "source": [
        "keras.backend.clear_session()\n",
        "np.random.seed(42)\n",
        "tf.random.set_seed(42)"
      ],
      "metadata": {
        "id": "VaUQxfuUPwA1"
      },
      "execution_count": 34,
      "outputs": []
    },
    {
      "cell_type": "code",
      "source": [
        "model = keras.Sequential(layers=[\n",
        "        keras.layers.InputLayer(input_shape=features[0].shape),\n",
        "        keras.layers.Conv2D(16, 3, padding='same', activation=keras.activations.relu),\n",
        "        keras.layers.MaxPooling2D(),\n",
        "        keras.layers.Conv2D(32, 3, padding='same', activation=keras.activations.relu),\n",
        "        keras.layers.MaxPooling2D(),\n",
        "        keras.layers.Flatten(),\n",
        "        keras.layers.Dropout(0.3),\n",
        "        keras.layers.Dense(64, activation=keras.activations.relu),\n",
        "        keras.layers.Dense(6, activation=keras.activations.softmax)\n",
        "    ])\n",
        "model.compile(optimizer=keras.optimizers.Adam(), loss=\"sparse_categorical_crossentropy\", metrics=['accuracy'])\n",
        "model.summary()"
      ],
      "metadata": {
        "colab": {
          "base_uri": "https://localhost:8080/"
        },
        "id": "5ovf6X5JPzNG",
        "outputId": "9107c8f0-364a-4ddc-b2bd-08dd8632fcda"
      },
      "execution_count": 35,
      "outputs": [
        {
          "output_type": "stream",
          "name": "stdout",
          "text": [
            "Model: \"sequential\"\n",
            "_________________________________________________________________\n",
            " Layer (type)                Output Shape              Param #   \n",
            "=================================================================\n",
            " conv2d (Conv2D)             (None, 1025, 32, 16)      160       \n",
            "                                                                 \n",
            " max_pooling2d (MaxPooling2D  (None, 512, 16, 16)      0         \n",
            " )                                                               \n",
            "                                                                 \n",
            " conv2d_1 (Conv2D)           (None, 512, 16, 32)       4640      \n",
            "                                                                 \n",
            " max_pooling2d_1 (MaxPooling  (None, 256, 8, 32)       0         \n",
            " 2D)                                                             \n",
            "                                                                 \n",
            " flatten (Flatten)           (None, 65536)             0         \n",
            "                                                                 \n",
            " dropout (Dropout)           (None, 65536)             0         \n",
            "                                                                 \n",
            " dense (Dense)               (None, 64)                4194368   \n",
            "                                                                 \n",
            " dense_1 (Dense)             (None, 6)                 390       \n",
            "                                                                 \n",
            "=================================================================\n",
            "Total params: 4,199,558\n",
            "Trainable params: 4,199,558\n",
            "Non-trainable params: 0\n",
            "_________________________________________________________________\n"
          ]
        }
      ]
    },
    {
      "cell_type": "code",
      "source": [
        "# Set parameters for data splitting and training\n",
        "TEST_SIZE = 0.3\n",
        "BATCH_SIZE = 64\n",
        "EPOCHS = 20\n",
        "\n",
        "# Encode Labels\n",
        "#encoded_labels = tf.one_hot(indices=labels, depth=10)\n",
        "# Split dataset to train and test data\n",
        "#X_train, X_test, y_train, y_test = train_test_split(features, encoded_labels.numpy(), test_size=TEST_SIZE)\n",
        "\n",
        "# Train the model\n",
        "early_stopping = keras.callbacks.EarlyStopping(monitor='val_loss', patience=3, restore_best_weights=True)\n",
        "history = model.fit(x=X_train_full, y=y_train_full, validation_split=TEST_SIZE, epochs=EPOCHS, batch_size=BATCH_SIZE, callbacks=[early_stopping])\n",
        "\n",
        "# Plot the training history\n",
        "fig, axs = plt.subplots(2)\n",
        "fig.set_size_inches(12, 8)\n",
        "fig.suptitle('Training History', fontsize=16)\n",
        "axs[0].plot(history.epoch, history.history['loss'], history.history['val_loss'])\n",
        "axs[0].set(title='Loss', xlabel='Epoch', ylabel='Loss')\n",
        "axs[0].legend(['loss', 'val_loss'])\n",
        "axs[1].plot(history.epoch, history.history['accuracy'], history.history['val_accuracy'])\n",
        "axs[1].set(title='Accuracy', xlabel='Epoch', ylabel='Accuracy')\n",
        "axs[1].legend(['accuracy', 'val_accuracy'])\n",
        "plt.show()"
      ],
      "metadata": {
        "colab": {
          "base_uri": "https://localhost:8080/",
          "height": 724
        },
        "id": "m5ENEnNpWCcK",
        "outputId": "3c4a5ab1-ab76-41a3-9355-2c6b0dfec3f0"
      },
      "execution_count": 36,
      "outputs": [
        {
          "output_type": "stream",
          "name": "stdout",
          "text": [
            "Epoch 1/20\n",
            "82/82 [==============================] - 81s 980ms/step - loss: 1.6145 - accuracy: 0.3707 - val_loss: 1.4565 - val_accuracy: 0.4022\n",
            "Epoch 2/20\n",
            "82/82 [==============================] - 79s 965ms/step - loss: 1.3002 - accuracy: 0.4854 - val_loss: 1.4201 - val_accuracy: 0.4309\n",
            "Epoch 3/20\n",
            "82/82 [==============================] - 79s 959ms/step - loss: 1.1760 - accuracy: 0.5368 - val_loss: 1.4449 - val_accuracy: 0.4389\n",
            "Epoch 4/20\n",
            "82/82 [==============================] - 79s 962ms/step - loss: 1.0328 - accuracy: 0.6009 - val_loss: 1.4844 - val_accuracy: 0.4537\n",
            "Epoch 5/20\n",
            "82/82 [==============================] - 79s 962ms/step - loss: 0.8771 - accuracy: 0.6704 - val_loss: 1.5896 - val_accuracy: 0.4649\n"
          ]
        },
        {
          "output_type": "display_data",
          "data": {
            "text/plain": [
              "<Figure size 864x576 with 2 Axes>"
            ],
            "image/png": "[encoded data removed]"
          },
          "metadata": {
            "needs_background": "light"
          }
        }
      ]
    },
    {
      "cell_type": "code",
      "source": [],
      "metadata": {
        "id": "sfJEwrQIVXl9"
      },
      "execution_count": 36,
      "outputs": []
    }
  ]
}